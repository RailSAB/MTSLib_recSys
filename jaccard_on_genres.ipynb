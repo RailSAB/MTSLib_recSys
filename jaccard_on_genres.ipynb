{
 "cells": [
  {
   "cell_type": "markdown",
   "id": "fb98ac07",
   "metadata": {},
   "source": [
    "## Baseline\n",
    "### Рекомендации с основой на жанровое сходство книг (Jaccard similarity) и популярность\n",
    "**Пока:**\n",
    "- Предобработали данные, создали словари, добавили кэширование для ускорения работы\n",
    "- Сделали гибридную модель скоринга (w1*Jaccard + w2*popularity), так же сделали адаптивные веса для популярности (пользователь читает чаще популярные книги -> больше вес для популярности во время скоринга)\n",
    "- Протестировали на разном допустимом количестве прочитанных книг у пользовател и количестве рекомендуемых книг: min_interactions >= x, in [30, 50, 70, 100], with corresponding top_n in [9, 15, 21, 30] (0.3 * min_interactions)\n",
    "- Для каждого теста рандомно выбираются 100 пользователей из списка валидных, для них генерируется \"train set\" - самые первые записи на основе которых подбираются top_n рекомендаций, \"test set\" - то с чем рекомендации сравниваются\n",
    "- Вычислили Hit Rate, визуализировали распределение, сохранили статистику, замерили время подбора рекомендаций"
   ]
  },
  {
   "cell_type": "markdown",
   "id": "48ab41b0",
   "metadata": {},
   "source": [
    "**Далее:**\n",
    "- Больше тестировать (разное количество пользователей и разное количество книг в истории)\n",
    "- Собрать больше метрик (количество хитов довольно мало, попробуем посмотреть на данные \"оценим своими глазами\", попробуем другие метрики)"
   ]
  },
  {
   "cell_type": "code",
   "execution_count": 42,
   "id": "569f2ec6",
   "metadata": {},
   "outputs": [],
   "source": [
    "import numpy as np\n",
    "import pandas as pd\n",
    "import matplotlib.pyplot as plt\n",
    "from tqdm import tqdm"
   ]
  },
  {
   "cell_type": "markdown",
   "id": "5a2d6a00",
   "metadata": {},
   "source": [
    "### Data preparation"
   ]
  },
  {
   "cell_type": "code",
   "execution_count": 43,
   "id": "ac589bbc",
   "metadata": {},
   "outputs": [],
   "source": [
    "interactions = pd.read_csv('data/interactions.csv')\n",
    "items = pd.read_csv('data/items.csv')\n",
    "users = pd.read_csv('data/users.csv')"
   ]
  },
  {
   "cell_type": "code",
   "execution_count": 44,
   "id": "87d2f7ca",
   "metadata": {},
   "outputs": [],
   "source": [
    "def preprocess_items(items_df):\n",
    "    \n",
    "    items_processed = items_df.copy()\n",
    "\n",
    "    items_processed['genres_list'] = items_processed['genres'].fillna('').apply(\n",
    "        lambda x: [genre.strip() for genre in str(x).split(',') if genre.strip() and genre.strip() != 'nan']\n",
    "    )\n",
    "    \n",
    "    items_processed['authors_list'] = items_processed['authors'].fillna('').apply(\n",
    "        lambda x: [author.strip() for author in str(x).split(',') if author.strip() and author.strip() != 'nan']\n",
    "    )\n",
    "    \n",
    "    def clean_year(year_value):\n",
    "        if pd.isna(year_value):\n",
    "            return np.nan\n",
    "        \n",
    "        year_str = str(year_value).strip()\n",
    "        \n",
    "        if not year_str:\n",
    "            return np.nan\n",
    "        \n",
    "        try:\n",
    "            year_num = int(float(year_str))\n",
    "            if year_num <= 2025:\n",
    "                return year_num\n",
    "            else:\n",
    "                return np.nan\n",
    "        except ValueError:\n",
    "            return np.nan\n",
    "    \n",
    "    items_processed['year_clean'] = items_processed['year'].apply(clean_year)\n",
    "    \n",
    "    \n",
    "    return items_processed\n",
    "def preprocess_interactions(interactions_df):\n",
    "    \n",
    "    interactions_processed = interactions_df.copy()\n",
    "    \n",
    "    interactions_processed['start_date_dt'] = pd.to_datetime(interactions_processed['start_date'])\n",
    "    \n",
    "    interactions_processed['start_year'] = interactions_processed['start_date_dt'].dt.year\n",
    "    interactions_processed['start_month'] = interactions_processed['start_date_dt'].dt.month\n",
    "    interactions_processed['start_day_of_week'] = interactions_processed['start_date_dt'].dt.dayofweek\n",
    "    interactions_processed['start_quarter'] = interactions_processed['start_date_dt'].dt.quarter\n",
    "    interactions_processed['is_weekend'] = interactions_processed['start_day_of_week'].isin([5, 6]).astype(int)\n",
    "    \n",
    "    def categorize_progress(progress):\n",
    "        if progress == 0:\n",
    "            return 'not_started'\n",
    "        elif progress < 25:\n",
    "            return 'barely_started'\n",
    "        elif progress < 50:\n",
    "            return 'quarter_read'\n",
    "        elif progress < 75:\n",
    "            return 'half_read'\n",
    "        elif progress < 100:\n",
    "            return 'almost_finished'\n",
    "        else:\n",
    "            return 'completed'\n",
    "    \n",
    "    interactions_processed['progress_category'] = interactions_processed['progress'].apply(categorize_progress)\n",
    "    \n",
    "    interactions_processed['season'] = interactions_processed['start_month'].map({\n",
    "        12: 'winter', 1: 'winter', 2: 'winter',\n",
    "        3: 'spring', 4: 'spring', 5: 'spring',\n",
    "        6: 'summer', 7: 'summer', 8: 'summer',\n",
    "        9: 'autumn', 10: 'autumn', 11: 'autumn'\n",
    "    })\n",
    "    \n",
    "    \n",
    "    return interactions_processed"
   ]
  },
  {
   "cell_type": "code",
   "execution_count": 45,
   "id": "c8bbb9ef",
   "metadata": {},
   "outputs": [],
   "source": [
    "interactions = preprocess_interactions(interactions)\n",
    "items = preprocess_items(items)"
   ]
  },
  {
   "cell_type": "code",
   "execution_count": 77,
   "id": "6db7d1f0",
   "metadata": {},
   "outputs": [],
   "source": [
    "def prepare(interactions: pd.DataFrame, items: pd.DataFrame, min_interactions = 50):\n",
    "    interactions_cp = interactions.copy()\n",
    "    items_cp = items.copy()\n",
    "\n",
    "    book_count = interactions_cp.groupby('user_id').size()\n",
    "    valid_users = book_count[book_count >= min_interactions].index\n",
    "    print(f\"Users with с >= {min_interactions} 'readed books': {len(valid_users)}\")\n",
    "    print(f\"Total number of users: {len(book_count)}\")\n",
    "\n",
    "    filtered_interactions = interactions_cp[interactions_cp['user_id'].isin(valid_users)].copy()\n",
    "    filtered_interactions = filtered_interactions.sort_values(['user_id', 'start_date_dt'])\n",
    "\n",
    "    all_genres = set()\n",
    "    for genres_list in items_cp['genres_list']:\n",
    "        all_genres.update(genres_list)\n",
    "    genres_encoding = {genre: idx for idx, genre in enumerate(all_genres)}\n",
    "\n",
    "    items_cp['genres_list_idx'] = items_cp['genres_list'].apply(lambda x: [genres_encoding[genre] for genre in x])\n",
    "\n",
    "\n",
    "    items_cp.set_index('id', inplace=True)\n",
    "\n",
    "    genre_index = {}\n",
    "    for idx, row in items_cp.iterrows():\n",
    "        item_id = idx\n",
    "        genres = row['genres_list_idx']\n",
    "        for genre in genres:\n",
    "            if genre not in genre_index:\n",
    "                genre_index[genre] = []\n",
    "            genre_index[genre].append(item_id)\n",
    "\n",
    "\n",
    "    item_to_genres = dict(zip(items_cp.index, items_cp['genres_list_idx']))\n",
    "    item_to_genres_list = dict(zip(items_cp.index, items_cp['genres_list_idx']))\n",
    "\n",
    "    return filtered_interactions, items_cp, valid_users, genres_encoding, genre_index, item_to_genres, item_to_genres_list\n"
   ]
  },
  {
   "cell_type": "markdown",
   "id": "7a821fdb",
   "metadata": {},
   "source": [
    "### Main algorithm"
   ]
  },
  {
   "cell_type": "code",
   "execution_count": 47,
   "id": "e2dcf823",
   "metadata": {},
   "outputs": [],
   "source": [
    "def split_user_history(user_interactions: pd.DataFrame, top_n=15):\n",
    "    train = user_interactions.iloc[:-top_n]\n",
    "    test = user_interactions.iloc[-top_n:]\n",
    "    return train, test"
   ]
  },
  {
   "cell_type": "markdown",
   "id": "69741e6f",
   "metadata": {},
   "source": [
    "**Weights with exponential decay** (last one have more)"
   ]
  },
  {
   "cell_type": "code",
   "execution_count": 48,
   "id": "0599e608",
   "metadata": {},
   "outputs": [],
   "source": [
    "def get_candidates(user_interactions: pd.DataFrame, item_to_genres: dict, genre_index: dict) -> set:\n",
    "\n",
    "    user_genres = set()\n",
    "    for item in user_interactions['item_id']:\n",
    "        item_genres = item_to_genres.get(item, [])\n",
    "        user_genres.update(item_genres)\n",
    "\n",
    "    candidate_item_ids = set()\n",
    "    for genre in user_genres:\n",
    "        candidate_item_ids.update(genre_index.get(genre, []))\n",
    "\n",
    "    candidate_item_ids.difference_update(user_interactions['item_id'])\n",
    "\n",
    "    return candidate_item_ids"
   ]
  },
  {
   "cell_type": "code",
   "execution_count": 63,
   "id": "b1253673",
   "metadata": {},
   "outputs": [],
   "source": [
    "weights_cache = {}\n",
    "\n",
    "def user_interactions_weights(n_books, rate=0.02) -> list:\n",
    "    if n_books in weights_cache:\n",
    "        return weights_cache[n_books]\n",
    "\n",
    "    weights = []\n",
    "    for idx in range(n_books):\n",
    "        weight = np.exp(-rate * (n_books - 1 - idx))\n",
    "        weights.append(weight)\n",
    "\n",
    "    weights_cache[n_books] = weights\n",
    "    return weights\n",
    "\n",
    "\n",
    "popularity_counts_cached = None\n",
    "max_popularity_cached = None\n",
    "\n",
    "def adaptive_popularity_weight(user_interactions: pd.DataFrame, \n",
    "                              interactions_df: pd.DataFrame) -> float:\n",
    "    global popularity_counts_cached, max_popularity_cached\n",
    "\n",
    "    if popularity_counts_cached is None:\n",
    "        popularity_counts = interactions_df['item_id'].value_counts()\n",
    "        popularity_counts_cached = popularity_counts\n",
    "        max_popularity_cached = popularity_counts.max()\n",
    "\n",
    "    user_books = user_interactions['item_id'].tolist()\n",
    "\n",
    "    user_avg_popularity = np.mean([popularity_counts_cached.get(book, 0) for book in user_books])\n",
    "    max_popularity = max_popularity_cached\n",
    "    \n",
    "    # if user reads more popular books -> popularity weight increase\n",
    "    normalized_user_pop = user_avg_popularity / max_popularity\n",
    "    \n",
    "    return min(0.5, normalized_user_pop)  # limit"
   ]
  },
  {
   "cell_type": "code",
   "execution_count": 64,
   "id": "bbcfcf02",
   "metadata": {},
   "outputs": [],
   "source": [
    "def jaccard_similarity_inverted(list1: list, list2: list) -> float:\n",
    "    set1 = set(list1)\n",
    "    set2 = set(list2)\n",
    "    intersection = set1.intersection(set2)\n",
    "    union = set1.union(set2)\n",
    "    return len(intersection) / len(union) if union else 0\n",
    "\n",
    "\n",
    "def weighted_jaccard_score(user_interactions: pd.DataFrame, candidate_item_id: int, item_to_genres: dict, decay_rate: float = 0.02) -> float:\n",
    "    candidate_genres = item_to_genres.get(candidate_item_id, [])\n",
    "\n",
    "    if not isinstance(candidate_genres, list):\n",
    "        return 0.0\n",
    "\n",
    "    result_score = 0.0\n",
    "    result_weight = 0.0\n",
    "    weights = user_interactions_weights(user_interactions.shape[0], rate=decay_rate)\n",
    "\n",
    "    item_ids = user_interactions['item_id'].values\n",
    "\n",
    "    for idx, item_id in enumerate(item_ids):\n",
    "        user_genres = item_to_genres.get(item_id, [])\n",
    "        if not user_genres:\n",
    "            continue\n",
    "\n",
    "        jaccard_sim = jaccard_similarity_inverted(candidate_genres, user_genres)\n",
    "\n",
    "        result_score += jaccard_sim * weights[idx]\n",
    "        result_weight += weights[idx]\n",
    "\n",
    "    # normalization by total weight\n",
    "    return result_score / result_weight if result_weight > 0 else 0.0\n",
    "\n",
    "max_popularity = 0\n",
    "\n",
    "popularity_cache = {}\n",
    "\n",
    "def compute_popularity_score(item_id: int, interactions_df: pd.DataFrame) -> float:\n",
    "    global popularity_counts_cached, max_popularity_cached\n",
    "    if item_id in popularity_cache:\n",
    "        return popularity_cache[item_id]\n",
    "\n",
    "    if popularity_counts_cached is None:\n",
    "        popularity_counts = interactions_df['item_id'].value_counts()\n",
    "        popularity_counts_cached = popularity_counts\n",
    "        max_popularity_cached = popularity_counts.max()\n",
    "\n",
    "    item_popularity = popularity_counts_cached.get(item_id, 0)\n",
    "\n",
    "    max_popularity = max_popularity_cached\n",
    "    score = item_popularity / max_popularity if max_popularity > 0 else 0\n",
    "    popularity_cache[item_id] = score\n",
    "    return score\n",
    "\n",
    "def hybrid_weighted_score(user_interactions: pd.DataFrame, candidate_item_id: int, interactions_df: pd.DataFrame, item_to_genres: dict, jaccard_weight=0.7, popularity_weight=0.3, decay_rate=0.02) -> float:\n",
    "\n",
    "    jaccard_score = weighted_jaccard_score(user_interactions, candidate_item_id, item_to_genres, decay_rate=decay_rate)\n",
    "\n",
    "    popularity_score = compute_popularity_score(candidate_item_id, interactions_df)\n",
    "    \n",
    "    final_score = (jaccard_weight * jaccard_score + \n",
    "                   popularity_weight * popularity_score)\n",
    "    \n",
    "    return final_score\n",
    "\n",
    "\n"
   ]
  },
  {
   "cell_type": "code",
   "execution_count": 65,
   "id": "2ec1cb05",
   "metadata": {},
   "outputs": [],
   "source": [
    "def recommend_items(user_interactions: pd.DataFrame, interactions_df: pd.DataFrame, item_to_genres: dict, genre_index: dict, top_n=10, decay_rate=0.02) -> list[tuple[int, float]]:\n",
    "    candidate_items = get_candidates(user_interactions, item_to_genres, genre_index)\n",
    "\n",
    "\n",
    "    popularity_weight = adaptive_popularity_weight(user_interactions, interactions_df)\n",
    "    jaccard_weight = 1 - popularity_weight\n",
    "\n",
    "    scores = []\n",
    "    for item_id in candidate_items:\n",
    "        hybrid_score = hybrid_weighted_score(user_interactions, item_id, interactions_df, item_to_genres, jaccard_weight, popularity_weight, decay_rate=decay_rate)\n",
    "        scores.append((item_id, hybrid_score))\n",
    "\n",
    "    scores.sort(key=lambda x: x[1], reverse=True) \n",
    "\n",
    "    return scores[:top_n]"
   ]
  },
  {
   "cell_type": "code",
   "execution_count": 66,
   "id": "8a66b0f1",
   "metadata": {},
   "outputs": [],
   "source": [
    "def recommender(interactions_df: pd.DataFrame, filtered_interactions_df: pd.DataFrame, item_to_genres: dict, genre_index: dict, valid_users: np.ndarray, top_n=10, select_n=100, decay_rate=0.02) -> pd.DataFrame:\n",
    "\n",
    "    selected_users = np.random.choice(valid_users, size=select_n, replace=False).tolist()\n",
    "    results = []\n",
    "\n",
    "    for user_id in tqdm(selected_users, desc=\"Users processed\"):\n",
    "        user_interactions = filtered_interactions_df[filtered_interactions_df['user_id'] == user_id]\n",
    "        train, test = split_user_history(user_interactions, top_n=top_n)\n",
    "\n",
    "        recommended = recommend_items(train, interactions_df, item_to_genres, genre_index, top_n=top_n, decay_rate=decay_rate)\n",
    "        recommended_item_ids = set([item_id for item_id, score in recommended])\n",
    "        scores = [score for item_id, score in recommended]\n",
    "\n",
    "        actual_item_ids = set(test['item_id'])\n",
    "        previous_item_ids = train['item_id']\n",
    "\n",
    "        hits = recommended_item_ids.intersection(actual_item_ids)\n",
    "\n",
    "        results.append({\n",
    "            'user_id': user_id,\n",
    "            'previous_item_ids': list(previous_item_ids),\n",
    "            'recommended_item_ids': list(recommended_item_ids),\n",
    "            'actual_item_ids': list(actual_item_ids),\n",
    "            'hits': list(hits),\n",
    "            'scores': scores\n",
    "        })\n",
    "\n",
    "    recommendations = pd.DataFrame(results)\n",
    "    return recommendations"
   ]
  },
  {
   "cell_type": "code",
   "execution_count": 67,
   "id": "62937736",
   "metadata": {},
   "outputs": [],
   "source": [
    "np.random.seed(42)\n",
    "top_n = 15\n",
    "decay_rate = 0.02\n",
    "min_interactions = 50"
   ]
  },
  {
   "cell_type": "code",
   "execution_count": 68,
   "id": "f91c4d7a",
   "metadata": {},
   "outputs": [
    {
     "name": "stdout",
     "output_type": "stream",
     "text": [
      "Users with с >= 50 'readed books': 2542\n",
      "Total number of users: 151600\n"
     ]
    }
   ],
   "source": [
    "filtered_interactions, items_cp, valid_users, genres_encoding, genre_index, item_to_genres, item_to_genres_list = prepare(interactions, items, min_interactions=min_interactions)"
   ]
  },
  {
   "cell_type": "code",
   "execution_count": 69,
   "id": "3a362980",
   "metadata": {},
   "outputs": [
    {
     "name": "stderr",
     "output_type": "stream",
     "text": [
      "Users processed: 100%|██████████| 100/100 [02:50<00:00,  1.70s/it]\n"
     ]
    }
   ],
   "source": [
    "recommendations = recommender(interactions, filtered_interactions, item_to_genres, genre_index, valid_users, top_n=top_n, select_n=100, decay_rate=decay_rate)"
   ]
  },
  {
   "cell_type": "code",
   "execution_count": 70,
   "id": "b214f38b",
   "metadata": {},
   "outputs": [
    {
     "data": {
      "text/html": [
       "<div>\n",
       "<style scoped>\n",
       "    .dataframe tbody tr th:only-of-type {\n",
       "        vertical-align: middle;\n",
       "    }\n",
       "\n",
       "    .dataframe tbody tr th {\n",
       "        vertical-align: top;\n",
       "    }\n",
       "\n",
       "    .dataframe thead th {\n",
       "        text-align: right;\n",
       "    }\n",
       "</style>\n",
       "<table border=\"1\" class=\"dataframe\">\n",
       "  <thead>\n",
       "    <tr style=\"text-align: right;\">\n",
       "      <th></th>\n",
       "      <th>user_id</th>\n",
       "      <th>previous_item_ids</th>\n",
       "      <th>recommended_item_ids</th>\n",
       "      <th>actual_item_ids</th>\n",
       "      <th>hits</th>\n",
       "      <th>scores</th>\n",
       "    </tr>\n",
       "  </thead>\n",
       "  <tbody>\n",
       "    <tr>\n",
       "      <th>0</th>\n",
       "      <td>102557</td>\n",
       "      <td>[202166, 27599, 147676, 40236, 196913, 92867, ...</td>\n",
       "      <td>[14145, 22083, 10568, 55913, 2281, 21450, 2627...</td>\n",
       "      <td>[198593, 80195, 61478, 302317, 296205, 312432,...</td>\n",
       "      <td>[161017]</td>\n",
       "      <td>[0.17428164780841013, 0.17329863552958652, 0.1...</td>\n",
       "    </tr>\n",
       "    <tr>\n",
       "      <th>1</th>\n",
       "      <td>46273</td>\n",
       "      <td>[5697, 217859, 201262, 236876, 319332, 279975,...</td>\n",
       "      <td>[170369, 246146, 257570, 250232, 158851, 28279...</td>\n",
       "      <td>[28864, 49986, 308613, 153032, 215721, 67946, ...</td>\n",
       "      <td>[]</td>\n",
       "      <td>[0.09248667122062833, 0.09228412739325138, 0.0...</td>\n",
       "    </tr>\n",
       "    <tr>\n",
       "      <th>2</th>\n",
       "      <td>32856</td>\n",
       "      <td>[259241, 125427, 4442, 152378, 148424, 268138,...</td>\n",
       "      <td>[222243, 62788, 218725, 133158, 318694, 283557...</td>\n",
       "      <td>[295936, 320258, 47307, 76429, 157422, 69327, ...</td>\n",
       "      <td>[]</td>\n",
       "      <td>[0.1520098594847235, 0.1494265042357673, 0.149...</td>\n",
       "    </tr>\n",
       "    <tr>\n",
       "      <th>3</th>\n",
       "      <td>90919</td>\n",
       "      <td>[45266, 305076, 169297, 112312, 252831, 65490,...</td>\n",
       "      <td>[107522, 236904, 197579, 179930, 157422, 10920...</td>\n",
       "      <td>[25633, 267813, 282759, 274761, 223818, 241228...</td>\n",
       "      <td>[4497, 109201]</td>\n",
       "      <td>[0.25206539948869455, 0.2476683432675701, 0.24...</td>\n",
       "    </tr>\n",
       "    <tr>\n",
       "      <th>4</th>\n",
       "      <td>36783</td>\n",
       "      <td>[97371, 49845, 265809, 16703, 98837, 161454, 1...</td>\n",
       "      <td>[249857, 16291, 197958, 106567, 174541, 187887...</td>\n",
       "      <td>[265984, 135490, 151172, 95814, 7271, 221191, ...</td>\n",
       "      <td>[]</td>\n",
       "      <td>[0.38474513312230507, 0.3842162923841018, 0.38...</td>\n",
       "    </tr>\n",
       "    <tr>\n",
       "      <th>...</th>\n",
       "      <td>...</td>\n",
       "      <td>...</td>\n",
       "      <td>...</td>\n",
       "      <td>...</td>\n",
       "      <td>...</td>\n",
       "      <td>...</td>\n",
       "    </tr>\n",
       "    <tr>\n",
       "      <th>95</th>\n",
       "      <td>70885</td>\n",
       "      <td>[223633, 15169, 15032, 238820, 121391, 159130,...</td>\n",
       "      <td>[182464, 243367, 69064, 85775, 177648, 171667,...</td>\n",
       "      <td>[2028, 88397, 187501, 225135, 75951, 39727, 22...</td>\n",
       "      <td>[]</td>\n",
       "      <td>[0.4093302844051724, 0.4093006717875437, 0.409...</td>\n",
       "    </tr>\n",
       "    <tr>\n",
       "      <th>96</th>\n",
       "      <td>147018</td>\n",
       "      <td>[259980, 118939, 318418, 189902, 32504, 310587...</td>\n",
       "      <td>[284832, 293824, 19074, 238531, 152708, 136933...</td>\n",
       "      <td>[97954, 50340, 30053, 40997, 296998, 262775, 1...</td>\n",
       "      <td>[]</td>\n",
       "      <td>[0.41381622773424687, 0.4138120831885335, 0.41...</td>\n",
       "    </tr>\n",
       "    <tr>\n",
       "      <th>97</th>\n",
       "      <td>85357</td>\n",
       "      <td>[11062, 159580, 175906, 109088, 9806, 228424, ...</td>\n",
       "      <td>[244384, 1992, 74474, 301677, 229903, 294290, ...</td>\n",
       "      <td>[145444, 318886, 115389, 296840, 3722, 139916,...</td>\n",
       "      <td>[]</td>\n",
       "      <td>[0.3054614337160102, 0.30519902434692625, 0.30...</td>\n",
       "    </tr>\n",
       "    <tr>\n",
       "      <th>98</th>\n",
       "      <td>82999</td>\n",
       "      <td>[91955, 231042, 112937, 78244, 247773, 262881,...</td>\n",
       "      <td>[178882, 180291, 207173, 70535, 150442, 6059, ...</td>\n",
       "      <td>[278465, 64259, 21444, 76359, 71527, 318442, 2...</td>\n",
       "      <td>[]</td>\n",
       "      <td>[0.5969785446538359, 0.596773103672484, 0.5967...</td>\n",
       "    </tr>\n",
       "    <tr>\n",
       "      <th>99</th>\n",
       "      <td>103929</td>\n",
       "      <td>[38917, 250256, 16167, 249087, 255971, 68670, ...</td>\n",
       "      <td>[136034, 22434, 319494, 100806, 231658, 123307...</td>\n",
       "      <td>[56769, 40258, 321159, 133549, 116878, 16015, ...</td>\n",
       "      <td>[]</td>\n",
       "      <td>[0.19461281034607583, 0.19202463737771566, 0.1...</td>\n",
       "    </tr>\n",
       "  </tbody>\n",
       "</table>\n",
       "<p>100 rows × 6 columns</p>\n",
       "</div>"
      ],
      "text/plain": [
       "    user_id                                  previous_item_ids  \\\n",
       "0    102557  [202166, 27599, 147676, 40236, 196913, 92867, ...   \n",
       "1     46273  [5697, 217859, 201262, 236876, 319332, 279975,...   \n",
       "2     32856  [259241, 125427, 4442, 152378, 148424, 268138,...   \n",
       "3     90919  [45266, 305076, 169297, 112312, 252831, 65490,...   \n",
       "4     36783  [97371, 49845, 265809, 16703, 98837, 161454, 1...   \n",
       "..      ...                                                ...   \n",
       "95    70885  [223633, 15169, 15032, 238820, 121391, 159130,...   \n",
       "96   147018  [259980, 118939, 318418, 189902, 32504, 310587...   \n",
       "97    85357  [11062, 159580, 175906, 109088, 9806, 228424, ...   \n",
       "98    82999  [91955, 231042, 112937, 78244, 247773, 262881,...   \n",
       "99   103929  [38917, 250256, 16167, 249087, 255971, 68670, ...   \n",
       "\n",
       "                                 recommended_item_ids  \\\n",
       "0   [14145, 22083, 10568, 55913, 2281, 21450, 2627...   \n",
       "1   [170369, 246146, 257570, 250232, 158851, 28279...   \n",
       "2   [222243, 62788, 218725, 133158, 318694, 283557...   \n",
       "3   [107522, 236904, 197579, 179930, 157422, 10920...   \n",
       "4   [249857, 16291, 197958, 106567, 174541, 187887...   \n",
       "..                                                ...   \n",
       "95  [182464, 243367, 69064, 85775, 177648, 171667,...   \n",
       "96  [284832, 293824, 19074, 238531, 152708, 136933...   \n",
       "97  [244384, 1992, 74474, 301677, 229903, 294290, ...   \n",
       "98  [178882, 180291, 207173, 70535, 150442, 6059, ...   \n",
       "99  [136034, 22434, 319494, 100806, 231658, 123307...   \n",
       "\n",
       "                                      actual_item_ids            hits  \\\n",
       "0   [198593, 80195, 61478, 302317, 296205, 312432,...        [161017]   \n",
       "1   [28864, 49986, 308613, 153032, 215721, 67946, ...              []   \n",
       "2   [295936, 320258, 47307, 76429, 157422, 69327, ...              []   \n",
       "3   [25633, 267813, 282759, 274761, 223818, 241228...  [4497, 109201]   \n",
       "4   [265984, 135490, 151172, 95814, 7271, 221191, ...              []   \n",
       "..                                                ...             ...   \n",
       "95  [2028, 88397, 187501, 225135, 75951, 39727, 22...              []   \n",
       "96  [97954, 50340, 30053, 40997, 296998, 262775, 1...              []   \n",
       "97  [145444, 318886, 115389, 296840, 3722, 139916,...              []   \n",
       "98  [278465, 64259, 21444, 76359, 71527, 318442, 2...              []   \n",
       "99  [56769, 40258, 321159, 133549, 116878, 16015, ...              []   \n",
       "\n",
       "                                               scores  \n",
       "0   [0.17428164780841013, 0.17329863552958652, 0.1...  \n",
       "1   [0.09248667122062833, 0.09228412739325138, 0.0...  \n",
       "2   [0.1520098594847235, 0.1494265042357673, 0.149...  \n",
       "3   [0.25206539948869455, 0.2476683432675701, 0.24...  \n",
       "4   [0.38474513312230507, 0.3842162923841018, 0.38...  \n",
       "..                                                ...  \n",
       "95  [0.4093302844051724, 0.4093006717875437, 0.409...  \n",
       "96  [0.41381622773424687, 0.4138120831885335, 0.41...  \n",
       "97  [0.3054614337160102, 0.30519902434692625, 0.30...  \n",
       "98  [0.5969785446538359, 0.596773103672484, 0.5967...  \n",
       "99  [0.19461281034607583, 0.19202463737771566, 0.1...  \n",
       "\n",
       "[100 rows x 6 columns]"
      ]
     },
     "execution_count": 70,
     "metadata": {},
     "output_type": "execute_result"
    }
   ],
   "source": [
    "recommendations"
   ]
  },
  {
   "cell_type": "code",
   "execution_count": 71,
   "id": "d9f85d46",
   "metadata": {},
   "outputs": [
    {
     "data": {
      "text/plain": [
       "5"
      ]
     },
     "execution_count": 71,
     "metadata": {},
     "output_type": "execute_result"
    }
   ],
   "source": [
    "max(len(hits) for hits in recommendations['hits'])"
   ]
  },
  {
   "cell_type": "code",
   "execution_count": 72,
   "id": "3e9d454b",
   "metadata": {},
   "outputs": [
    {
     "data": {
      "text/plain": [
       "np.float64(0.48)"
      ]
     },
     "execution_count": 72,
     "metadata": {},
     "output_type": "execute_result"
    }
   ],
   "source": [
    "np.mean([len(hits) for hits in recommendations['hits']])"
   ]
  },
  {
   "cell_type": "markdown",
   "id": "bad97833",
   "metadata": {},
   "source": [
    "### Analysis and tests"
   ]
  },
  {
   "cell_type": "code",
   "execution_count": 80,
   "id": "8260d8d0",
   "metadata": {},
   "outputs": [],
   "source": [
    "import matplotlib.pyplot as plt\n",
    "import seaborn as sns\n",
    "from collections import Counter\n",
    "\n",
    "def calculate_hit_rates(recommendations_df):\n",
    "    hit_rates = []\n",
    "    for _, row in recommendations_df.iterrows():\n",
    "        n_recommended = len(row['recommended_item_ids'])\n",
    "        n_hits = len(row['hits'])\n",
    "        hit_rate = n_hits / n_recommended if n_recommended > 0 else 0\n",
    "        hit_rates.append(hit_rate)\n",
    "    return hit_rates\n",
    "\n",
    "def visualize_hit_rate_distribution(recommendations_df, title=\"Hit Rate Distribution\"):\n",
    "    hit_rates = calculate_hit_rates(recommendations_df)\n",
    "    \n",
    "    plt.figure(figsize=(12, 5))\n",
    "    \n",
    "    plt.subplot(1, 2, 1)\n",
    "    plt.hist(hit_rates, bins=20, alpha=0.7, edgecolor='black')\n",
    "    plt.title(f'{title} - Histogram')\n",
    "    plt.xlabel('Hit Rate')\n",
    "    plt.ylabel('Frequency')\n",
    "    plt.grid(True, alpha=0.3)\n",
    "    \n",
    "    plt.subplot(1, 2, 2)\n",
    "    plt.boxplot(hit_rates)\n",
    "    plt.title(f'{title} - Box Plot')\n",
    "    plt.ylabel('Hit Rate')\n",
    "    plt.grid(True, alpha=0.3)\n",
    "    \n",
    "    plt.tight_layout()\n",
    "    plt.show()\n",
    "    \n",
    "    print(f\"Hit Rate statistics for {title}:\")\n",
    "    print(f\"   Average Hit Rate: {np.mean(hit_rates):.4f}\")\n",
    "    print(f\"   Median Hit Rate: {np.median(hit_rates):.4f}\")\n",
    "    print(f\"   Std Hit Rate: {np.std(hit_rates):.4f}\")\n",
    "    print(f\"   % of users with hits: {(np.array(hit_rates) > 0).mean() * 100:.2f}%\")\n",
    "    print(f\"   Maximum Hit Rate: {np.max(hit_rates):.4f}\")\n",
    "    \n",
    "    return hit_rates\n"
   ]
  },
  {
   "cell_type": "code",
   "execution_count": 82,
   "id": "d911f4e2",
   "metadata": {},
   "outputs": [],
   "source": [
    "import time"
   ]
  },
  {
   "cell_type": "code",
   "execution_count": 83,
   "id": "01556d47",
   "metadata": {},
   "outputs": [
    {
     "name": "stdout",
     "output_type": "stream",
     "text": [
      "\n",
      " Testing: min_interactions=30, top_n=9\n",
      "============================================================\n",
      "Users with с >= 30 'readed books': 4685\n",
      "Total number of users: 151600\n"
     ]
    },
    {
     "name": "stderr",
     "output_type": "stream",
     "text": [
      "Users processed: 100%|██████████| 100/100 [01:49<00:00,  1.09s/it]"
     ]
    },
    {
     "name": "stdout",
     "output_type": "stream",
     "text": [
      "Recommendation generation took 109.40 seconds.\n"
     ]
    },
    {
     "name": "stderr",
     "output_type": "stream",
     "text": [
      "\n"
     ]
    },
    {
     "data": {
      "image/png": "[encoded data removed]",
      "text/plain": [
       "<Figure size 1200x500 with 2 Axes>"
      ]
     },
     "metadata": {},
     "output_type": "display_data"
    },
    {
     "name": "stdout",
     "output_type": "stream",
     "text": [
      "Hit Rate statistics for min_interactions=30, top_n=9:\n",
      "   Average Hit Rate: 0.0211\n",
      "   Median Hit Rate: 0.0000\n",
      "   Std Hit Rate: 0.0749\n",
      "   % of users with hits: 11.00%\n",
      "   Maximum Hit Rate: 0.5556\n",
      "TEST FINISHED for min_interactions=30, top_n=9\n",
      "\n",
      " Testing: min_interactions=50, top_n=15\n",
      "============================================================\n",
      "Users with с >= 50 'readed books': 2542\n",
      "Total number of users: 151600\n"
     ]
    },
    {
     "name": "stderr",
     "output_type": "stream",
     "text": [
      "Users processed: 100%|██████████| 100/100 [02:32<00:00,  1.52s/it]"
     ]
    },
    {
     "name": "stdout",
     "output_type": "stream",
     "text": [
      "Recommendation generation took 152.42 seconds.\n"
     ]
    },
    {
     "name": "stderr",
     "output_type": "stream",
     "text": [
      "\n"
     ]
    },
    {
     "data": {
      "image/png": "[encoded data removed]",
      "text/plain": [
       "<Figure size 1200x500 with 2 Axes>"
      ]
     },
     "metadata": {},
     "output_type": "display_data"
    },
    {
     "name": "stdout",
     "output_type": "stream",
     "text": [
      "Hit Rate statistics for min_interactions=50, top_n=15:\n",
      "   Average Hit Rate: 0.0260\n",
      "   Median Hit Rate: 0.0000\n",
      "   Std Hit Rate: 0.0498\n",
      "   % of users with hits: 27.00%\n",
      "   Maximum Hit Rate: 0.2667\n",
      "TEST FINISHED for min_interactions=50, top_n=15\n",
      "\n",
      " Testing: min_interactions=70, top_n=21\n",
      "============================================================\n",
      "Users with с >= 70 'readed books': 1648\n",
      "Total number of users: 151600\n"
     ]
    },
    {
     "name": "stderr",
     "output_type": "stream",
     "text": [
      "Users processed: 100%|██████████| 100/100 [03:19<00:00,  2.00s/it]"
     ]
    },
    {
     "name": "stdout",
     "output_type": "stream",
     "text": [
      "Recommendation generation took 199.93 seconds.\n"
     ]
    },
    {
     "name": "stderr",
     "output_type": "stream",
     "text": [
      "\n"
     ]
    },
    {
     "data": {
      "image/png": "[encoded data removed]",
      "text/plain": [
       "<Figure size 1200x500 with 2 Axes>"
      ]
     },
     "metadata": {},
     "output_type": "display_data"
    },
    {
     "name": "stdout",
     "output_type": "stream",
     "text": [
      "Hit Rate statistics for min_interactions=70, top_n=21:\n",
      "   Average Hit Rate: 0.0490\n",
      "   Median Hit Rate: 0.0000\n",
      "   Std Hit Rate: 0.0701\n",
      "   % of users with hits: 49.00%\n",
      "   Maximum Hit Rate: 0.3810\n",
      "TEST FINISHED for min_interactions=70, top_n=21\n",
      "\n",
      " Testing: min_interactions=100, top_n=30\n",
      "============================================================\n",
      "Users with с >= 100 'readed books': 1025\n",
      "Total number of users: 151600\n"
     ]
    },
    {
     "name": "stderr",
     "output_type": "stream",
     "text": [
      "Users processed: 100%|██████████| 100/100 [04:27<00:00,  2.68s/it]"
     ]
    },
    {
     "name": "stdout",
     "output_type": "stream",
     "text": [
      "Recommendation generation took 267.67 seconds.\n"
     ]
    },
    {
     "name": "stderr",
     "output_type": "stream",
     "text": [
      "\n"
     ]
    },
    {
     "data": {
      "image/png": "[encoded data removed]",
      "text/plain": [
       "<Figure size 1200x500 with 2 Axes>"
      ]
     },
     "metadata": {},
     "output_type": "display_data"
    },
    {
     "name": "stdout",
     "output_type": "stream",
     "text": [
      "Hit Rate statistics for min_interactions=100, top_n=30:\n",
      "   Average Hit Rate: 0.0457\n",
      "   Median Hit Rate: 0.0333\n",
      "   Std Hit Rate: 0.0612\n",
      "   % of users with hits: 56.00%\n",
      "   Maximum Hit Rate: 0.3333\n",
      "TEST FINISHED for min_interactions=100, top_n=30\n",
      "\n",
      " SUMMARY OF RESULTS:\n",
      "================================================================================\n",
      "   min_interactions  top_n  n_users  mean_hit_rate  std_hit_rate  \\\n",
      "0                30      9      100         0.0211        0.0749   \n",
      "1                50     15      100         0.0260        0.0498   \n",
      "2                70     21      100         0.0490        0.0701   \n",
      "3               100     30      100         0.0457        0.0612   \n",
      "\n",
      "   users_with_hits_%  \n",
      "0               11.0  \n",
      "1               27.0  \n",
      "2               49.0  \n",
      "3               56.0  \n"
     ]
    }
   ],
   "source": [
    "def run_parameter_tests(interactions_df, items_df, min_interactions_list=[30, 50, 70, 100], \n",
    "                       top_n_list=[9, 15, 21, 30], select_n=100, decay_rate=0.02):\n",
    "    \n",
    "    results_summary = []\n",
    "    \n",
    "    for min_interactions, top_n in zip(min_interactions_list, top_n_list):\n",
    "        print(f\"\\n Testing: min_interactions={min_interactions}, top_n={top_n}\")\n",
    "        print(\"=\"*60)\n",
    "\n",
    "        filtered_interactions, items_cp, valid_users, genres_encoding, genre_index, item_to_genres, _ = prepare(\n",
    "            interactions_df, items_df, min_interactions=min_interactions\n",
    "        )\n",
    "\n",
    "        # cache cleaning\n",
    "        global popularity_counts_cached, max_popularity_cached, popularity_cache, weights_cache\n",
    "        popularity_counts_cached = None\n",
    "        max_popularity_cached = None\n",
    "        popularity_cache.clear()\n",
    "        weights_cache.clear()\n",
    "\n",
    "        start = time.time()\n",
    "\n",
    "        recommendations = recommender(\n",
    "            interactions_df, filtered_interactions, item_to_genres, genre_index, \n",
    "            valid_users, top_n=top_n, select_n=select_n, decay_rate=decay_rate\n",
    "        )\n",
    "\n",
    "        end = time.time()\n",
    "        print(f\"Recommendation generation took {end - start:.2f} seconds.\")\n",
    "\n",
    "        title = f\"min_interactions={min_interactions}, top_n={top_n}\"\n",
    "        hit_rates = visualize_hit_rate_distribution(recommendations, title)\n",
    "        \n",
    "        results_summary.append({\n",
    "            'min_interactions': min_interactions,\n",
    "            'top_n': top_n,\n",
    "            'n_users': len(recommendations),\n",
    "            'mean_hit_rate': np.mean(hit_rates),\n",
    "            'std_hit_rate': np.std(hit_rates),\n",
    "            'users_with_hits_%': (np.array(hit_rates) > 0).mean() * 100,\n",
    "        })\n",
    "        \n",
    "        print(f\"TEST FINISHED for min_interactions={min_interactions}, top_n={top_n}\")\n",
    "    \n",
    "    summary_df = pd.DataFrame(results_summary)\n",
    "    print(f\"\\n SUMMARY OF RESULTS:\")\n",
    "    print(\"=\"*80)\n",
    "    print(summary_df.round(4))\n",
    "    \n",
    "    return summary_df\n",
    "\n",
    "\n",
    "parameter_results = run_parameter_tests(\n",
    "    interactions, items, \n",
    "    min_interactions_list=[30, 50, 70, 100], \n",
    "    top_n_list=[9, 15, 21, 30],\n",
    "    select_n=100,\n",
    "    decay_rate=0.02\n",
    ")"
   ]
  },
  {
   "cell_type": "markdown",
   "id": "faf03329",
   "metadata": {},
   "source": [
    "### Iterations\n",
    "- 1: Simple Jaccard with same weights for books\n",
    "- 2: Added exponential weights to the books in 'train' set of user interactions\n",
    "- 3: Hybrid scoring, added popularity and adaprive weights for users\n",
    "- 4: Optimization: caching, dicts, data access optimization\n",
    "- 5: Testing"
   ]
  },
  {
   "cell_type": "markdown",
   "id": "e390edb8",
   "metadata": {},
   "source": [
    "#### Next\n",
    "### Content-based using item vectors"
   ]
  },
  {
   "cell_type": "markdown",
   "id": "0b118c36",
   "metadata": {},
   "source": []
  }
 ],
 "metadata": {
  "kernelspec": {
   "display_name": "Python 3",
   "language": "python",
   "name": "python3"
  },
  "language_info": {
   "codemirror_mode": {
    "name": "ipython",
    "version": 3
   },
   "file_extension": ".py",
   "mimetype": "text/x-python",
   "name": "python",
   "nbconvert_exporter": "python",
   "pygments_lexer": "ipython3",
   "version": "3.9.6"
  }
 },
 "nbformat": 4,
 "nbformat_minor": 5
}
